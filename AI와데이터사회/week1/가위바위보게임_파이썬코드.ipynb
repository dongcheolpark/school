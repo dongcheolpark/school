{
 "cells": [
  {
   "cell_type": "code",
   "execution_count": 1,
   "source": [
    "import random\n",
    "\n",
    "print(\"### 가위 바위 보 게임 ###\")\n",
    "myHand = int(input(\"가위:1, 바위:2, 보:3 을 입력: \"))\n",
    "comHand = random.randrange(1,4)"
   ],
   "outputs": [
    {
     "output_type": "stream",
     "name": "stdout",
     "text": [
      "### 가위 바위 보 게임 ###\n",
      "가위:1, 바위:2, 보:3 을 입력: 2\n"
     ]
    }
   ],
   "metadata": {}
  },
  {
   "cell_type": "code",
   "execution_count": 2,
   "source": [
    "if myHand == 1 :\n",
    "    if comHand == 1:\n",
    "        print(\"비겼다\")\n",
    "    elif comHand == 2:\n",
    "        print(\"졌다ㅠ\")\n",
    "    elif comHand == 3:\n",
    "        print(\"이겼다\")"
   ],
   "outputs": [],
   "metadata": {}
  },
  {
   "cell_type": "code",
   "execution_count": 6,
   "source": [
    "if myHand == 2 :\n",
    "    if comHand == 1:\n",
    "        print(\"이겼다\")\n",
    "    elif comHand == 2:\n",
    "        print(\"비겼다\")\n",
    "    elif comHand == 3:\n",
    "        print(\"졌다ㅠ\")"
   ],
   "outputs": [
    {
     "output_type": "stream",
     "name": "stdout",
     "text": [
      "비겼다\n"
     ]
    }
   ],
   "metadata": {}
  },
  {
   "cell_type": "code",
   "execution_count": 7,
   "source": [
    "if myHand == 3 :\n",
    "    if comHand == 1:\n",
    "        print(\"졌다ㅠ\")\n",
    "    elif comHand == 2:\n",
    "        print(\"이겼다.\")\n",
    "    elif comHand == 3:\n",
    "        print(\"비겼다\")"
   ],
   "outputs": [],
   "metadata": {}
  },
  {
   "cell_type": "code",
   "execution_count": null,
   "source": [],
   "outputs": [],
   "metadata": {}
  }
 ],
 "metadata": {
  "kernelspec": {
   "name": "python3",
   "display_name": "Python 3.9.6 64-bit"
  },
  "language_info": {
   "codemirror_mode": {
    "name": "ipython",
    "version": 3
   },
   "file_extension": ".py",
   "mimetype": "text/x-python",
   "name": "python",
   "nbconvert_exporter": "python",
   "pygments_lexer": "ipython3",
   "version": "3.9.6"
  },
  "interpreter": {
   "hash": "b0fa6594d8f4cbf19f97940f81e996739fb7646882a419484c72d19e05852a7e"
  }
 },
 "nbformat": 4,
 "nbformat_minor": 5
}