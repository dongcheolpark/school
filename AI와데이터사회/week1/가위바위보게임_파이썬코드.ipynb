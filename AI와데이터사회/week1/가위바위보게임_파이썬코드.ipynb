{
 "cells": [
  {
   "cell_type": "code",
   "execution_count": 1,
   "id": "a250fadd",
   "metadata": {},
   "outputs": [
    {
     "name": "stdout",
     "output_type": "stream",
     "text": [
      "### 가위 바위 보 게임 ###\n",
      "가위:1, 바위:2, 보:3 을 입력: 2\n"
     ]
    }
   ],
   "source": [
    "import random\n",
    "\n",
    "print(\"### 가위 바위 보 게임 ###\")\n",
    "myHand = int(input(\"가위:1, 바위:2, 보:3 을 입력: \"))\n",
    "comHand = random.randrange(1,4)"
   ]
  },
  {
   "cell_type": "code",
   "execution_count": 2,
   "id": "8dbc1e2d",
   "metadata": {},
   "outputs": [],
   "source": [
    "if myHand == 1 :\n",
    "    if comHand == 1:\n",
    "        print(\"비겼다\")\n",
    "    elif comHand == 2:\n",
    "        print(\"졌다ㅠ\")\n",
    "    elif comHand == 3:\n",
    "        print(\"이겼다\")"
   ]
  },
  {
   "cell_type": "code",
   "execution_count": 6,
   "id": "d2a2f756",
   "metadata": {},
   "outputs": [
    {
     "name": "stdout",
     "output_type": "stream",
     "text": [
      "비겼다\n"
     ]
    }
   ],
   "source": [
    "if myHand == 2 :\n",
    "    if comHand == 1:\n",
    "        print(\"이겼다\")\n",
    "    elif comHand == 2:\n",
    "        print(\"비겼다\")\n",
    "    elif comHand == 3:\n",
    "        print(\"졌다ㅠ\")"
   ]
  },
  {
   "cell_type": "code",
   "execution_count": 7,
   "id": "bc6a03bf",
   "metadata": {},
   "outputs": [],
   "source": [
    "if myHand == 3 :\n",
    "    if comHand == 1:\n",
    "        print(\"졌다ㅠ\")\n",
    "    elif comHand == 2:\n",
    "        print(\"이겼다.\")\n",
    "    elif comHand == 3:\n",
    "        print(\"비겼다\")"
   ]
  },
  {
   "cell_type": "code",
   "execution_count": null,
   "id": "abaf9ab7",
   "metadata": {},
   "outputs": [],
   "source": []
  }
 ],
 "metadata": {
  "kernelspec": {
   "display_name": "Python 3",
   "language": "python",
   "name": "python3"
  },
  "language_info": {
   "codemirror_mode": {
    "name": "ipython",
    "version": 3
   },
   "file_extension": ".py",
   "mimetype": "text/x-python",
   "name": "python",
   "nbconvert_exporter": "python",
   "pygments_lexer": "ipython3",
   "version": "3.8.8"
  }
 },
 "nbformat": 4,
 "nbformat_minor": 5
}
