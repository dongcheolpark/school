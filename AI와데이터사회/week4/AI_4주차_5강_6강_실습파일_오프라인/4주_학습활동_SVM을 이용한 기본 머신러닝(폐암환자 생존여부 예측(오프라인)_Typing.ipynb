{
 "cells": [
  {
   "cell_type": "markdown",
   "metadata": {},
   "source": [
    "## 폐암환자 생존여부 머신러닝(SVM)으로 예측하기  - 4주차 온라인 4강 소스코드 참조"
   ]
  },
  {
   "cell_type": "markdown",
   "metadata": {},
   "source": [
    "### 1. 사용 패키지와 모듈 임포트"
   ]
  },
  {
   "cell_type": "code",
   "execution_count": null,
   "metadata": {},
   "outputs": [],
   "source": [
    "import pandas as pd\n",
    "from sklearn.model_selection import train_test_split #학습데이터와 테스트데이터 분할\n",
    "from sklearn import svm   #SVM 모델\n",
    "from sklearn import metrics  #정확도 비교"
   ]
  },
  {
   "cell_type": "markdown",
   "metadata": {},
   "source": [
    "### 2. 데이터 가져오기"
   ]
  },
  {
   "cell_type": "code",
   "execution_count": null,
   "metadata": {},
   "outputs": [],
   "source": [
    "df = pd.read_csv('./thoracic_surgery.csv')\n",
    "#일부 데이터만 가져오기\n",
    "#data_df = df[0:행개수] \n",
    "data_df = df\n",
    "data_df.head()"
   ]
  },
  {
   "cell_type": "code",
   "execution_count": null,
   "metadata": {},
   "outputs": [],
   "source": [
    "#각 행은 환자 한명 한명의 기록\n",
    "#A1~A17 : 종양유형, 폐활량, 호흡곤란여부, 고통정도, 기침, 흡연, 천식여부 등의 수술 전 환자 상태\n",
    "#         1은 해당사항 있음, 0은 해당 사항없음\n",
    "#Class : 수술 후 생존 결과 (생존은 1, 사망은 0)"
   ]
  },
  {
   "cell_type": "code",
   "execution_count": null,
   "metadata": {},
   "outputs": [],
   "source": [
    "#데이터의 행,열 개수 확인\n",
    "data_df.shape  "
   ]
  },
  {
   "cell_type": "markdown",
   "metadata": {},
   "source": [
    "### 3. 데이터셋 나누기"
   ]
  },
  {
   "cell_type": "code",
   "execution_count": null,
   "metadata": {},
   "outputs": [],
   "source": [
    "#일반적으로 80%/20%, 70%/30% 비율로 분할 (data_df, test_size= 0.2)\n",
    "train, test = "
   ]
  },
  {
   "cell_type": "code",
   "execution_count": null,
   "metadata": {},
   "outputs": [],
   "source": [
    "print(\"train data\", train.shape)\n",
    "print(\"test data\",test.shape)"
   ]
  },
  {
   "cell_type": "markdown",
   "metadata": {},
   "source": [
    "### 4. 학습에 사용할 변수(특징, Feature) 선택하기"
   ]
  },
  {
   "cell_type": "code",
   "execution_count": null,
   "metadata": {},
   "outputs": [],
   "source": [
    "data_df.info()    #데이터 타입, 각 아이템 개수, 누락데이터(NaN(Not a Number or Not Available) 등 확인"
   ]
  },
  {
   "cell_type": "code",
   "execution_count": null,
   "metadata": {},
   "outputs": [],
   "source": [
    "data_df.corr()   # 상관계수 보기"
   ]
  },
  {
   "cell_type": "markdown",
   "metadata": {},
   "source": [
    "### 5. 학습용 데이터셋 : 학습데이터와 레이블(정답) 나누기"
   ]
  },
  {
   "cell_type": "code",
   "execution_count": null,
   "metadata": {
    "scrolled": true
   },
   "outputs": [],
   "source": [
    "train_data_df = train[['A8','A1','A12','A15']]\n",
    "train_data_df "
   ]
  },
  {
   "cell_type": "code",
   "execution_count": null,
   "metadata": {},
   "outputs": [],
   "source": [
    "train_label_df = train[['Class']]\n",
    "train_label_df"
   ]
  },
  {
   "cell_type": "code",
   "execution_count": null,
   "metadata": {},
   "outputs": [],
   "source": [
    "train_data = train_data_df.values           # 값부분만 가져오기(2차원 형태)\n",
    "train_data"
   ]
  },
  {
   "cell_type": "code",
   "execution_count": null,
   "metadata": {},
   "outputs": [],
   "source": [
    "train_label = train_label_df.values.ravel() # 값부분을 1차원으로 펴주기\n",
    "train_label"
   ]
  },
  {
   "cell_type": "markdown",
   "metadata": {},
   "source": [
    "### 6. 테스트 데이터셋 : 학습데이터와 레이블(정답) 나누기"
   ]
  },
  {
   "cell_type": "code",
   "execution_count": null,
   "metadata": {},
   "outputs": [],
   "source": [
    "test_data_df = \n",
    "test_data_df"
   ]
  },
  {
   "cell_type": "code",
   "execution_count": null,
   "metadata": {},
   "outputs": [],
   "source": [
    "test_label_df =   \n",
    "test_label_df"
   ]
  },
  {
   "cell_type": "code",
   "execution_count": null,
   "metadata": {},
   "outputs": [],
   "source": [
    "# 값부분만 가져오기(2차원 형태)\n",
    "test_data =          \n",
    "test_data"
   ]
  },
  {
   "cell_type": "code",
   "execution_count": null,
   "metadata": {},
   "outputs": [],
   "source": [
    "# 값부분을 1차원으로 펴주기\n",
    "test_label =  \n",
    "test_label"
   ]
  },
  {
   "cell_type": "markdown",
   "metadata": {},
   "source": [
    "### 7. SVM 모델 학습하기"
   ]
  },
  {
   "cell_type": "code",
   "execution_count": null,
   "metadata": {
    "scrolled": true
   },
   "outputs": [],
   "source": [
    "#svm 객체 생성\n",
    "clf = \n",
    "#svm 모델로 학습데이터로 학습하기 fit()\n",
    "\n"
   ]
  },
  {
   "cell_type": "markdown",
   "metadata": {},
   "source": [
    "### 8. 테스트 데이터로 예측하기"
   ]
  },
  {
   "cell_type": "code",
   "execution_count": null,
   "metadata": {
    "scrolled": true
   },
   "outputs": [],
   "source": [
    "#위에서 만든 clf(svm) 모델로 예측하기\n",
    "pred_svm = \n",
    "pred_svm  #svm이 예측한 생존 여부 값"
   ]
  },
  {
   "cell_type": "markdown",
   "metadata": {},
   "source": [
    "### 9. 모델 예측 정확도 확인"
   ]
  },
  {
   "cell_type": "code",
   "execution_count": null,
   "metadata": {},
   "outputs": [],
   "source": [
    "test_label #테스트 데이터에서 정답(생존 여부)"
   ]
  },
  {
   "cell_type": "code",
   "execution_count": null,
   "metadata": {},
   "outputs": [],
   "source": [
    "ac_score = metrics.accuracy_score(test_label, pred_svm)\n",
    "print('accuracy : ', ac_score)"
   ]
  },
  {
   "cell_type": "code",
   "execution_count": null,
   "metadata": {},
   "outputs": [],
   "source": [
    "comparison = pd.DataFrame({'prediction_svm':pred_svm, 'ground_truth':test_label})\n",
    "comparison"
   ]
  },
  {
   "cell_type": "markdown",
   "metadata": {},
   "source": [
    "### * 주의  !!!! : 소스코드 중간 중간에 변경사항이 있다면 \n",
    "### 맨 위에서부터 차례 차례 Shift + Enter를 모두 해주거나, \n",
    "### 상단 Kernel -> Restart & Run All로 전체적으로 다시 한번 실행해야 적용됨\n",
    "### 고친 부분만 Shift + Enter 한다고 전체 소스코드에 반영되지 않음"
   ]
  },
  {
   "cell_type": "markdown",
   "metadata": {},
   "source": [
    "## 1. 데이터를 증가시켰을 때 정확도는 얼마나 차이가 나는가?"
   ]
  },
  {
   "cell_type": "markdown",
   "metadata": {},
   "source": [
    "## A."
   ]
  },
  {
   "cell_type": "markdown",
   "metadata": {},
   "source": [
    "## 2. 학습 피쳐(특징데이터, 변수)를 변경시켜 수행할 경우 정확도는 어떤 차이가 나는가?"
   ]
  },
  {
   "cell_type": "markdown",
   "metadata": {},
   "source": [
    "## A."
   ]
  },
  {
   "cell_type": "markdown",
   "metadata": {},
   "source": [
    "## 3. 비용(C)와 감마(gamma) 값을 변경하여 수행해보고 어떤 값이 가장 좋은 정확도를 갖는지 알아보자. \n",
    "### 비용이 0.1 , 1, 10 인 경우, 감마 값이 0.1, 1, 10 인 경우의 여러 조합으로 수행해 보자"
   ]
  },
  {
   "cell_type": "markdown",
   "metadata": {},
   "source": [
    "## A."
   ]
  },
  {
   "cell_type": "markdown",
   "metadata": {},
   "source": [
    "## 4. 예측 정확도가 가장 높은 학습 모델의 데이터 수, 피쳐(변수) 및 파라메터의 값은 무엇인가?"
   ]
  },
  {
   "cell_type": "markdown",
   "metadata": {},
   "source": [
    "## A."
   ]
  },
  {
   "cell_type": "code",
   "execution_count": null,
   "metadata": {},
   "outputs": [],
   "source": []
  }
 ],
 "metadata": {
  "kernelspec": {
   "display_name": "Python 3",
   "language": "python",
   "name": "python3"
  },
  "language_info": {
   "codemirror_mode": {
    "name": "ipython",
    "version": 3
   },
   "file_extension": ".py",
   "mimetype": "text/x-python",
   "name": "python",
   "nbconvert_exporter": "python",
   "pygments_lexer": "ipython3",
   "version": "3.8.8"
  }
 },
 "nbformat": 4,
 "nbformat_minor": 4
}
